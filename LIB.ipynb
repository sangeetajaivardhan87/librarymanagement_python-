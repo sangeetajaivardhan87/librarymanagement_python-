{
 "cells": [
  {
   "cell_type": "code",
   "execution_count": null,
   "id": "8fdc19e5-4ed2-423c-9685-4140cae2ceb1",
   "metadata": {},
   "outputs": [],
   "source": []
  },
  {
   "cell_type": "code",
   "execution_count": null,
   "id": "11d9ce45-cca4-403d-ba0c-3dc0504ed5e8",
   "metadata": {},
   "outputs": [],
   "source": []
  },
  {
   "cell_type": "code",
   "execution_count": null,
   "id": "9b543d6a-ca2d-4b29-9b85-45f818d00c8a",
   "metadata": {},
   "outputs": [],
   "source": []
  },
  {
   "cell_type": "code",
   "execution_count": null,
   "id": "17abf76f-afb3-45cf-92a4-f425593417f2",
   "metadata": {},
   "outputs": [],
   "source": []
  },
  {
   "cell_type": "code",
   "execution_count": null,
   "id": "c39aa27f-bdb8-4b21-9c84-32fe67783320",
   "metadata": {},
   "outputs": [],
   "source": []
  },
  {
   "cell_type": "code",
   "execution_count": null,
   "id": "5bd03a54-8b8c-42ee-82ef-f24c1dfee490",
   "metadata": {},
   "outputs": [
    {
     "name": "stdin",
     "output_type": "stream",
     "text": [
      "Username : sang\n",
      "Passward 123\n"
     ]
    },
    {
     "name": "stdout",
     "output_type": "stream",
     "text": [
      "{'maths': 10, 'science': 10}\n"
     ]
    },
    {
     "name": "stdin",
     "output_type": "stream",
     "text": [
      "name : a\n",
      "issue or return book : issue\n",
      "Subject : science\n"
     ]
    },
    {
     "name": "stdout",
     "output_type": "stream",
     "text": [
      "Available Science Book : 9\n",
      "Issued Book : 1\n",
      "{'a': 'science'}\n"
     ]
    },
    {
     "name": "stdin",
     "output_type": "stream",
     "text": [
      "name : b\n",
      "issue or return book : issue\n",
      "Subject : science\n"
     ]
    },
    {
     "name": "stdout",
     "output_type": "stream",
     "text": [
      "Available Science Book : 8\n",
      "Issued Book : 2\n",
      "{'a': 'science', 'b': 'science'}\n"
     ]
    },
    {
     "name": "stdin",
     "output_type": "stream",
     "text": [
      "name : a\n",
      "issue or return book : return\n",
      "Subject : science\n"
     ]
    },
    {
     "name": "stdout",
     "output_type": "stream",
     "text": [
      "Available Science Book : 9\n",
      "{'b': 'science'}\n"
     ]
    }
   ],
   "source": [
    "#library Management System\n",
    "username = \"sang\"\n",
    "passward = 123\n",
    "books = {\"maths\":10,\"science\":10 }\n",
    "borrower = {}\n",
    "issued = 0\n",
    "\n",
    "\n",
    "username = input(\"Username :\")\n",
    "if username == \"sang\":\n",
    "    passward = int(input(\"Passward\"))\n",
    "    if username != \"sang\":\n",
    "        print(\"incorrect username\")\n",
    "    \n",
    "\n",
    "    if passward == 123:\n",
    "        print(books)\n",
    "    else:\n",
    "        print(\"Wrong Passward\")\n",
    "while True:\n",
    "    name = input(\"name :\")\n",
    "    actionchoice = input(\"issue or return book :\")\n",
    "    if actionchoice == \"issue\" or \"return\":\n",
    "        bookchoice = input(\"Subject :\")\n",
    "  \n",
    "\n",
    "    if actionchoice == \"issue\" and bookchoice == \"maths\":\n",
    "        books[\"maths\"]-=1\n",
    "        issued+=1\n",
    "        borrower[name] =  bookchoice\n",
    "        print(\"Available Maths Book :\", books[\"maths\"])\n",
    "        print(\"Issued Book :\", issued)\n",
    "        print(borrower)\n",
    "        if books[\"maths\"] == 0:\n",
    "            print(\"Not available\")\n",
    "        \n",
    "    elif actionchoice == \"return\" and bookchoice == \"maths\":\n",
    "        books[\"maths\"]+=1\n",
    "        print(\"Available Maths Book :\", books[\"maths\"])\n",
    "        del borrower[name] \n",
    "        print(borrower)\n",
    "        \n",
    "    elif actionchoice == \"issue\" and bookchoice == \"science\":\n",
    "        books[\"science\"]-=1\n",
    "        issued+=1\n",
    "        print(\"Available Science Book :\", books[\"science\"])\n",
    "        print(\"Issued Book :\", issued)\n",
    "        borrower[name] = bookchoice\n",
    "        print(borrower)\n",
    "        if books[\"science\"] == 0:\n",
    "            print(\"Not available\")\n",
    "        \n",
    "    elif actionchoice == \"return\" and bookchoice == \"science\":\n",
    "        books[\"science\"]+=1\n",
    "        print(\"Available Science Book :\", books[\"science\"])\n",
    "        del borrower[name] \n",
    "        print(borrower)\n",
    "\n",
    "    \n",
    "\n",
    "\n"
   ]
  },
  {
   "cell_type": "code",
   "execution_count": null,
   "id": "39028d22-18cb-498d-81a4-8c9b838d3c8f",
   "metadata": {},
   "outputs": [],
   "source": []
  },
  {
   "cell_type": "code",
   "execution_count": null,
   "id": "442a3de6-72b2-454f-aea9-7e3c02d5dd34",
   "metadata": {},
   "outputs": [],
   "source": []
  },
  {
   "cell_type": "code",
   "execution_count": null,
   "id": "ba6defd3-ccd5-4f90-9eef-0842ee66ad73",
   "metadata": {},
   "outputs": [],
   "source": [
    "k"
   ]
  }
 ],
 "metadata": {
  "kernelspec": {
   "display_name": "Python 3 (ipykernel)",
   "language": "python",
   "name": "python3"
  },
  "language_info": {
   "codemirror_mode": {
    "name": "ipython",
    "version": 3
   },
   "file_extension": ".py",
   "mimetype": "text/x-python",
   "name": "python",
   "nbconvert_exporter": "python",
   "pygments_lexer": "ipython3",
   "version": "3.11.5"
  }
 },
 "nbformat": 4,
 "nbformat_minor": 5
}
